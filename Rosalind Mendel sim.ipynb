{
 "cells": [
  {
   "cell_type": "code",
   "execution_count": 71,
   "id": "0d6eea5e-657a-4ee4-96bd-735a83f65463",
   "metadata": {},
   "outputs": [
    {
     "data": {
      "text/plain": [
       "0.76333"
      ]
     },
     "execution_count": 71,
     "metadata": {},
     "output_type": "execute_result"
    }
   ],
   "source": [
    "import random\n",
    "\n",
    "k = 19\n",
    "m = 15\n",
    "n = 18\n",
    "\n",
    "def simulation(k,m,n):\n",
    "    \n",
    "    results_A = 0\n",
    "    results_a = 0\n",
    "\n",
    "    for i in range(1000000):\n",
    "        \n",
    "        mates = random.sample(['k', 'm', 'n'], counts = [k, m, n], k=2)\n",
    "        \n",
    "        if mates == ['n', 'n']:\n",
    "            results_a += 1\n",
    "            \n",
    "        elif mates == ['m', 'n'] or mates == ['n', 'm']:\n",
    "            \n",
    "            offspring_mn = random.sample(['A', 'a'], k = 1)\n",
    "            if offspring_mn == ['a']:\n",
    "                    results_a += 1\n",
    "            else: \n",
    "                    results_A += 1\n",
    "                \n",
    "        elif mates == ['m', 'm']:\n",
    "                \n",
    "            offspring_mm = random.sample(['A', 'a'], counts = [75, 25], k = 1)\n",
    "            if offspring_mm == ['a']:\n",
    "                    results_a += 1\n",
    "            else: \n",
    "                    results_A += 1\n",
    "    \n",
    "        else:\n",
    "                    results_A += 1\n",
    "\n",
    "    return results_A / (results_A + results_a)\n",
    "\n",
    "simulation(k,m,n)"
   ]
  }
 ],
 "metadata": {
  "kernelspec": {
   "display_name": "Python 3 (ipykernel)",
   "language": "python",
   "name": "python3"
  },
  "language_info": {
   "codemirror_mode": {
    "name": "ipython",
    "version": 3
   },
   "file_extension": ".py",
   "mimetype": "text/x-python",
   "name": "python",
   "nbconvert_exporter": "python",
   "pygments_lexer": "ipython3",
   "version": "3.11.6"
  }
 },
 "nbformat": 4,
 "nbformat_minor": 5
}
